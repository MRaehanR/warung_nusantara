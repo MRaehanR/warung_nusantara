{
 "cells": [
  {
   "cell_type": "code",
   "execution_count": 259,
   "metadata": {},
   "outputs": [],
   "source": [
    "import sqlite3\n",
    "import random\n",
    "from datetime import datetime"
   ]
  },
  {
   "cell_type": "code",
   "execution_count": 260,
   "metadata": {},
   "outputs": [],
   "source": [
    "conn = sqlite3.connect(':memory:')\n",
    "db = conn.cursor()"
   ]
  },
  {
   "cell_type": "code",
   "execution_count": 261,
   "metadata": {},
   "outputs": [],
   "source": [
    "db.execute('''\n",
    "CREATE TABLE IF NOT EXISTS `customers` (\n",
    "`id` INTEGER PRIMARY KEY AUTOINCREMENT,\n",
    "`conversations` TEXT NOT NULL,\n",
    "`created_at` TIMESTAMP DEFAULT NULL,\n",
    "`updated_at` TIMESTAMP DEFAULT NULL\n",
    ");\n",
    "''')\n",
    "\n",
    "db.execute('''\n",
    "CREATE TABLE IF NOT EXISTS `menus` (\n",
    "`id` INTEGER PRIMARY KEY AUTOINCREMENT,\n",
    "`name` TEXT NOT NULL,\n",
    "`desc` TEXT NOT NULL,\n",
    "`buy_price` INTEGER NOT NULL,\n",
    "`sell_price` INTEGER NOT NULL,\n",
    "`unlock_xp_at` INTEGER NOT NULL,\n",
    "`menu_type` INTEGER NOT NULL,\n",
    "`created_at` TIMESTAMP NOT NULL,\n",
    "`updated_at` TIMESTAMP NOT NULL\n",
    ");\n",
    "''')\n",
    "\n",
    "db.execute('''\n",
    "CREATE TABLE IF NOT EXISTS `stocks` (\n",
    "`id` INTEGER PRIMARY KEY AUTOINCREMENT,\n",
    "`user_id` INTEGER NOT NULL,\n",
    "`menu_id` INTEGER NOT NULL,\n",
    "`quantity` INTEGER DEFAULT 0,\n",
    "`created_at` TIMESTAMP NOT NULL,\n",
    "`updated_at` TIMESTAMP NOT NULL,\n",
    "FOREIGN KEY (`user_id`) REFERENCES `users` (`id`) ON DELETE CASCADE,\n",
    "FOREIGN KEY (`menu_id`) REFERENCES `menus` (`id`) ON UPDATE CASCADE\n",
    ");\n",
    "''')\n",
    "\n",
    "db.execute('''\n",
    "CREATE TABLE IF NOT EXISTS `hints` (\n",
    "`id` INTEGER PRIMARY KEY AUTOINCREMENT,\n",
    "`desc` TEXT NOT NULL,\n",
    "`menu_type` INTEGER NOT NULL,\n",
    "`created_at` TIMESTAMP NOT NULL,\n",
    "`updated_at` TIMESTAMP NOT NULL\n",
    ");\n",
    "''')\n",
    "\n",
    "db.execute('''\n",
    "CREATE TABLE IF NOT EXISTS `users` (\n",
    "`id` INTEGER PRIMARY KEY AUTOINCREMENT,\n",
    "`username` TEXT NOT NULL,\n",
    "`password` TEXT NOT NULL,\n",
    "`xp` INTEGER NOT NULL DEFAULT 0,\n",
    "`credits` INTEGER NOT NULL DEFAULT 0,\n",
    "`created_at` TIMESTAMP NOT NULL,\n",
    "`updated_at` TIMESTAMP NOT NULL\n",
    ");\n",
    "''')\n",
    "\n",
    "db.execute('''\n",
    "INSERT INTO `users` (`username`, `password`, `xp`, `credits`, `created_at`, `updated_at`) VALUES\n",
    "('user1', 'password123', 50, 1000, '2024-01-01 06:00:00', '2024-01-01 06:00:00'),\n",
    "('user2', 'password456', 30, 500, '2024-01-02 06:00:00', '2024-01-02 06:00:00');\n",
    "''')\n",
    "\n",
    "db.execute('''\n",
    "INSERT INTO `hints` (`desc`, `menu_type`, `created_at`, `updated_at`) VALUES\n",
    "(?, 1, ?,?) \n",
    "''', ('Langit cerah berwarna biru, tanpa awan sedikit pun',datetime.now().strftime(\"%Y-%m-%d %H:%M:%S\"), datetime.now().strftime(\"%Y-%m-%d %H:%M:%S\")))\n",
    "\n",
    "db.execute('''\n",
    "INSERT INTO `hints` (`desc`, `menu_type`, `created_at`, `updated_at`) VALUES\n",
    "(?, 1, ?,?) \n",
    "''', ('Matahari bersinar terang sepanjang hari, tidak ada awan yang menghalang',datetime.now().strftime(\"%Y-%m-%d %H:%M:%S\"), datetime.now().strftime(\"%Y-%m-%d %H:%M:%S\")))\n",
    "\n",
    "db.execute('''\n",
    "INSERT INTO `hints` (`desc`, `menu_type`, `created_at`, `updated_at`) VALUES\n",
    "(?, 1, ?,?) \n",
    "''', ('Hari ini cuacanya sangat indah, sinar matahari menerangi setiap sudut',datetime.now().strftime(\"%Y-%m-%d %H:%M:%S\"), datetime.now().strftime(\"%Y-%m-%d %H:%M:%S\")))\n",
    "\n",
    "db.execute('''\n",
    "INSERT INTO `hints` (`desc`, `menu_type`, `created_at`, `updated_at`) VALUES\n",
    "(?, 1, ?,?) \n",
    "''', ('Matahari bersinar terik, membuat hari ini terasa sangat panas',datetime.now().strftime(\"%Y-%m-%d %H:%M:%S\"), datetime.now().strftime(\"%Y-%m-%d %H:%M:%S\")))\n",
    "\n",
    "db.execute('''\n",
    "INSERT INTO `hints` (`desc`, `menu_type`, `created_at`, `updated_at`) VALUES\n",
    "(?, 1, ?,?) \n",
    "''', ('Hufft... hari ini panas banget minum yang seger-seger enak nih!',datetime.now().strftime(\"%Y-%m-%d %H:%M:%S\"), datetime.now().strftime(\"%Y-%m-%d %H:%M:%S\")))\n",
    "\n",
    "\n",
    "\n",
    "db.execute('''\n",
    "INSERT INTO `hints` (`desc`, `menu_type`, `created_at`, `updated_at`) VALUES\n",
    "(?, 2, ?,?) \n",
    "''', ('Hujan deras turun tanpa henti, membasahi jalan-jalan dan taman',datetime.now().strftime(\"%Y-%m-%d %H:%M:%S\"), datetime.now().strftime(\"%Y-%m-%d %H:%M:%S\")))\n",
    "\n",
    "db.execute('''\n",
    "INSERT INTO `hints` (`desc`, `menu_type`, `created_at`, `updated_at`) VALUES\n",
    "(?, 2, ?,?) \n",
    "''', ('Hujan deras mengiringi hari ini, menciptakan suasana yang damai dan tenang',datetime.now().strftime(\"%Y-%m-%d %H:%M:%S\"), datetime.now().strftime(\"%Y-%m-%d %H:%M:%S\")))\n",
    "\n",
    "db.execute('''\n",
    "INSERT INTO `hints` (`desc`, `menu_type`, `created_at`, `updated_at`) VALUES\n",
    "(?, 2, ?,?) \n",
    "''', ('Hujan mulai turun sejak tadi pagi, membuat udara jadi lebih segar',datetime.now().strftime(\"%Y-%m-%d %H:%M:%S\"), datetime.now().strftime(\"%Y-%m-%d %H:%M:%S\")))\n",
    "\n",
    "db.execute('''\n",
    "INSERT INTO `hints` (`desc`, `menu_type`, `created_at`, `updated_at`) VALUES\n",
    "(?, 2, ?,?) \n",
    "''', ('Gerimis turun perlahan, membasahi dedaunan dan memberikan kesegaran',datetime.now().strftime(\"%Y-%m-%d %H:%M:%S\"), datetime.now().strftime(\"%Y-%m-%d %H:%M:%S\")))\n",
    "\n",
    "db.execute('''\n",
    "INSERT INTO `hints` (`desc`, `menu_type`, `created_at`, `updated_at`) VALUES\n",
    "(?, 2, ?,?) \n",
    "''', ('Rintik-rintik hujan menyambut hari ini, suasana jadi lebih sejuk',datetime.now().strftime(\"%Y-%m-%d %H:%M:%S\"), datetime.now().strftime(\"%Y-%m-%d %H:%M:%S\")))\n",
    "\n",
    "conn.commit()\n"
   ]
  },
  {
   "cell_type": "code",
   "execution_count": 262,
   "metadata": {},
   "outputs": [
    {
     "name": "stdout",
     "output_type": "stream",
     "text": [
      "[(1, 'Hari ini sedang panas', 1, '2025-01-01 14:41:13', '2025-01-01 14:41:13'), (2, 'hari ini sangat terik', 1, '2025-01-01 14:41:13', '2025-01-01 14:41:13'), (3, 'Hari ini sedang hujan', 2, '2025-01-01 14:41:13', '2025-01-01 14:41:13'), (4, 'hari ini mendung', 2, '2025-01-01 14:41:13', '2025-01-01 14:41:13')]\n"
     ]
    }
   ],
   "source": [
    "data = db.execute('''\n",
    "                  SELECT * FROM `hints`;\n",
    "                  ''')\n",
    "\n",
    "conn.commit()\n",
    "\n",
    "print(list(data))"
   ]
  },
  {
   "cell_type": "code",
   "execution_count": 264,
   "metadata": {},
   "outputs": [
    {
     "name": "stdout",
     "output_type": "stream",
     "text": [
      "[3, 'Hari ini sedang hujan', 2, '2025-01-01 14:41:13', '2025-01-01 14:41:13']\n"
     ]
    }
   ],
   "source": [
    "def generate_hint ():\n",
    "    data = list(db.execute(\"select * from hints where menu_type = ?\", (str(random.randint(1,2)))))\n",
    "    hint = data[random.randint(0, len(data)-1)]\n",
    "    hint = list(hint)\n",
    "\n",
    "    return hint\n",
    "\n",
    "hint = generate_hint()\n",
    "print(hint)"
   ]
  }
 ],
 "metadata": {
  "kernelspec": {
   "display_name": "Python 3",
   "language": "python",
   "name": "python3"
  },
  "language_info": {
   "codemirror_mode": {
    "name": "ipython",
    "version": 3
   },
   "file_extension": ".py",
   "mimetype": "text/x-python",
   "name": "python",
   "nbconvert_exporter": "python",
   "pygments_lexer": "ipython3",
   "version": "3.12.6"
  }
 },
 "nbformat": 4,
 "nbformat_minor": 2
}
