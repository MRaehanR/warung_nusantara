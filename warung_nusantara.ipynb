{
 "cells": [
  {
   "cell_type": "code",
   "execution_count": 2,
   "metadata": {},
   "outputs": [],
   "source": [
    "import sqlite3\n",
    "import random\n",
    "from datetime import datetime\n",
    "from getpass import getpass"
   ]
  },
  {
   "cell_type": "code",
   "execution_count": 3,
   "metadata": {},
   "outputs": [],
   "source": [
    "conn = sqlite3.connect(':memory:')\n",
    "db = conn.cursor()"
   ]
  },
  {
   "cell_type": "code",
   "execution_count": 4,
   "metadata": {},
   "outputs": [],
   "source": [
    "db.execute('''\n",
    "CREATE TABLE IF NOT EXISTS `customers` (\n",
    "`id` INTEGER PRIMARY KEY AUTOINCREMENT,\n",
    "`conversations` TEXT NOT NULL,\n",
    "`created_at` TIMESTAMP DEFAULT NULL,\n",
    "`updated_at` TIMESTAMP DEFAULT NULL\n",
    ");\n",
    "''')\n",
    "\n",
    "db.execute('''\n",
    "CREATE TABLE IF NOT EXISTS `menus` (\n",
    "`id` INTEGER PRIMARY KEY AUTOINCREMENT,\n",
    "`name` TEXT NOT NULL,\n",
    "`desc` TEXT NOT NULL,\n",
    "`buy_price` INTEGER NOT NULL,\n",
    "`sell_price` INTEGER NOT NULL,\n",
    "`unlock_xp_at` INTEGER NOT NULL,\n",
    "`menu_type` INTEGER NOT NULL,\n",
    "`created_at` TIMESTAMP NOT NULL,\n",
    "`updated_at` TIMESTAMP NOT NULL\n",
    ");\n",
    "''')\n",
    "\n",
    "db.execute('''\n",
    "CREATE TABLE IF NOT EXISTS `stocks` (\n",
    "`id` INTEGER PRIMARY KEY AUTOINCREMENT,\n",
    "`user_id` INTEGER NOT NULL,\n",
    "`menu_id` INTEGER NOT NULL,\n",
    "`quantity` INTEGER DEFAULT 0,\n",
    "`created_at` TIMESTAMP NOT NULL,\n",
    "`updated_at` TIMESTAMP NOT NULL,\n",
    "FOREIGN KEY (`user_id`) REFERENCES `users` (`id`) ON DELETE CASCADE,\n",
    "FOREIGN KEY (`menu_id`) REFERENCES `menus` (`id`) ON UPDATE CASCADE\n",
    ");\n",
    "''')\n",
    "\n",
    "db.execute('''\n",
    "CREATE TABLE IF NOT EXISTS `hints` (\n",
    "`id` INTEGER PRIMARY KEY AUTOINCREMENT,\n",
    "`desc` TEXT NOT NULL,\n",
    "`menu_type` INTEGER NOT NULL,\n",
    "`created_at` TIMESTAMP NOT NULL,\n",
    "`updated_at` TIMESTAMP NOT NULL\n",
    ");\n",
    "''')\n",
    "\n",
    "db.execute('''\n",
    "CREATE TABLE IF NOT EXISTS `users` (\n",
    "`id` INTEGER PRIMARY KEY AUTOINCREMENT,\n",
    "`username` TEXT NOT NULL,\n",
    "`password` TEXT NOT NULL,\n",
    "`xp` INTEGER NOT NULL DEFAULT 0,\n",
    "`credits` INTEGER NOT NULL DEFAULT 0,\n",
    "`created_at` TIMESTAMP NOT NULL,\n",
    "`updated_at` TIMESTAMP NOT NULL\n",
    ");\n",
    "''')\n",
    "\n",
    "db.execute('''\n",
    "INSERT INTO `users` (`username`, `password`, `xp`, `credits`, `created_at`, `updated_at`) VALUES\n",
    "('user1', 'password123', 50, 1000, '2024-01-01 06:00:00', '2024-01-01 06:00:00'),\n",
    "('user2', 'password456', 30, 500, '2024-01-02 06:00:00', '2024-01-02 06:00:00'),\n",
    "('user3','1234', 60, 1500, '2025-01-02 05:25:57', '2025-01-02 05:25:59');\n",
    "''')\n",
    "\n",
    "db.execute('''\n",
    "INSERT INTO `hints` (`desc`, `menu_type`, `created_at`, `updated_at`) VALUES\n",
    "(?, 1, ?,?) \n",
    "''', ('Langit cerah berwarna biru, tanpa awan sedikit pun',datetime.now().strftime(\"%Y-%m-%d %H:%M:%S\"), datetime.now().strftime(\"%Y-%m-%d %H:%M:%S\")))\n",
    "\n",
    "db.execute('''\n",
    "INSERT INTO `hints` (`desc`, `menu_type`, `created_at`, `updated_at`) VALUES\n",
    "(?, 1, ?,?) \n",
    "''', ('Matahari bersinar terang sepanjang hari, tidak ada awan yang menghalang',datetime.now().strftime(\"%Y-%m-%d %H:%M:%S\"), datetime.now().strftime(\"%Y-%m-%d %H:%M:%S\")))\n",
    "\n",
    "db.execute('''\n",
    "INSERT INTO `hints` (`desc`, `menu_type`, `created_at`, `updated_at`) VALUES\n",
    "(?, 1, ?,?) \n",
    "''', ('Hari ini cuacanya sangat indah, sinar matahari menerangi setiap sudut',datetime.now().strftime(\"%Y-%m-%d %H:%M:%S\"), datetime.now().strftime(\"%Y-%m-%d %H:%M:%S\")))\n",
    "\n",
    "db.execute('''\n",
    "INSERT INTO `hints` (`desc`, `menu_type`, `created_at`, `updated_at`) VALUES\n",
    "(?, 1, ?,?) \n",
    "''', ('Matahari bersinar terik, membuat hari ini terasa sangat panas',datetime.now().strftime(\"%Y-%m-%d %H:%M:%S\"), datetime.now().strftime(\"%Y-%m-%d %H:%M:%S\")))\n",
    "\n",
    "db.execute('''\n",
    "INSERT INTO `hints` (`desc`, `menu_type`, `created_at`, `updated_at`) VALUES\n",
    "(?, 1, ?,?) \n",
    "''', ('Hufft... hari ini panas banget minum yang seger-seger enak nih!',datetime.now().strftime(\"%Y-%m-%d %H:%M:%S\"), datetime.now().strftime(\"%Y-%m-%d %H:%M:%S\")))\n",
    "\n",
    "\n",
    "\n",
    "db.execute('''\n",
    "INSERT INTO `hints` (`desc`, `menu_type`, `created_at`, `updated_at`) VALUES\n",
    "(?, 2, ?,?) \n",
    "''', ('Hujan deras turun tanpa henti, membasahi jalan-jalan dan taman',datetime.now().strftime(\"%Y-%m-%d %H:%M:%S\"), datetime.now().strftime(\"%Y-%m-%d %H:%M:%S\")))\n",
    "\n",
    "db.execute('''\n",
    "INSERT INTO `hints` (`desc`, `menu_type`, `created_at`, `updated_at`) VALUES\n",
    "(?, 2, ?,?) \n",
    "''', ('Hujan deras mengiringi hari ini, menciptakan suasana yang damai dan tenang',datetime.now().strftime(\"%Y-%m-%d %H:%M:%S\"), datetime.now().strftime(\"%Y-%m-%d %H:%M:%S\")))\n",
    "\n",
    "db.execute('''\n",
    "INSERT INTO `hints` (`desc`, `menu_type`, `created_at`, `updated_at`) VALUES\n",
    "(?, 2, ?,?) \n",
    "''', ('Hujan mulai turun sejak tadi pagi, membuat udara jadi lebih segar',datetime.now().strftime(\"%Y-%m-%d %H:%M:%S\"), datetime.now().strftime(\"%Y-%m-%d %H:%M:%S\")))\n",
    "\n",
    "db.execute('''\n",
    "INSERT INTO `hints` (`desc`, `menu_type`, `created_at`, `updated_at`) VALUES\n",
    "(?, 2, ?,?) \n",
    "''', ('Gerimis turun perlahan, membasahi dedaunan dan memberikan kesegaran',datetime.now().strftime(\"%Y-%m-%d %H:%M:%S\"), datetime.now().strftime(\"%Y-%m-%d %H:%M:%S\")))\n",
    "\n",
    "db.execute('''\n",
    "INSERT INTO `hints` (`desc`, `menu_type`, `created_at`, `updated_at`) VALUES\n",
    "(?, 2, ?,?) \n",
    "''', ('Rintik-rintik hujan menyambut hari ini, suasana jadi lebih sejuk',datetime.now().strftime(\"%Y-%m-%d %H:%M:%S\"), datetime.now().strftime(\"%Y-%m-%d %H:%M:%S\")))\n",
    "\n",
    "conn.commit()\n"
   ]
  },
  {
   "cell_type": "code",
   "execution_count": 5,
   "metadata": {},
   "outputs": [
    {
     "name": "stdout",
     "output_type": "stream",
     "text": [
      "[(1, 'Langit cerah berwarna biru, tanpa awan sedikit pun', 1, '2025-01-02 05:51:27', '2025-01-02 05:51:27'), (2, 'Matahari bersinar terang sepanjang hari, tidak ada awan yang menghalang', 1, '2025-01-02 05:51:27', '2025-01-02 05:51:27'), (3, 'Hari ini cuacanya sangat indah, sinar matahari menerangi setiap sudut', 1, '2025-01-02 05:51:27', '2025-01-02 05:51:27'), (4, 'Matahari bersinar terik, membuat hari ini terasa sangat panas', 1, '2025-01-02 05:51:27', '2025-01-02 05:51:27'), (5, 'Hufft... hari ini panas banget minum yang seger-seger enak nih!', 1, '2025-01-02 05:51:27', '2025-01-02 05:51:27'), (6, 'Hujan deras turun tanpa henti, membasahi jalan-jalan dan taman', 2, '2025-01-02 05:51:27', '2025-01-02 05:51:27'), (7, 'Hujan deras mengiringi hari ini, menciptakan suasana yang damai dan tenang', 2, '2025-01-02 05:51:27', '2025-01-02 05:51:27'), (8, 'Hujan mulai turun sejak tadi pagi, membuat udara jadi lebih segar', 2, '2025-01-02 05:51:27', '2025-01-02 05:51:27'), (9, 'Gerimis turun perlahan, membasahi dedaunan dan memberikan kesegaran', 2, '2025-01-02 05:51:27', '2025-01-02 05:51:27'), (10, 'Rintik-rintik hujan menyambut hari ini, suasana jadi lebih sejuk', 2, '2025-01-02 05:51:27', '2025-01-02 05:51:27')]\n"
     ]
    }
   ],
   "source": [
    "data = db.execute('''\n",
    "                  SELECT * FROM `hints`;\n",
    "                  ''')\n",
    "\n",
    "conn.commit()\n",
    "\n",
    "print(list(data))"
   ]
  },
  {
   "cell_type": "code",
   "execution_count": 6,
   "metadata": {},
   "outputs": [
    {
     "name": "stdout",
     "output_type": "stream",
     "text": [
      "[10, 'Rintik-rintik hujan menyambut hari ini, suasana jadi lebih sejuk', 2, '2025-01-02 05:51:27', '2025-01-02 05:51:27']\n"
     ]
    }
   ],
   "source": [
    "def generate_hint ():\n",
    "    data = list(db.execute(\"select * from hints where menu_type = ?\", (str(random.randint(1,2)))))\n",
    "    hint = data[random.randint(0, len(data)-1)]\n",
    "    hint = list(hint)\n",
    "\n",
    "    return hint\n",
    "\n",
    "hint = generate_hint()\n",
    "print(hint)"
   ]
  },
  {
   "cell_type": "code",
   "execution_count": 7,
   "metadata": {},
   "outputs": [
    {
     "name": "stdout",
     "output_type": "stream",
     "text": [
      "\n",
      "Login untuk masuk ke dalam game!\n",
      "\n",
      "\n",
      "Login successful!\n",
      "\n",
      "\n",
      "Welcome, user3! Your XP: 60, Credits: 1500\n",
      "\n"
     ]
    }
   ],
   "source": [
    "def login(username, password):\n",
    "    try:\n",
    "        db = conn.cursor()\n",
    "\n",
    "        db.execute('SELECT * FROM `users` WHERE `username` = ? AND `password` = ?', (username, password))\n",
    "        user = db.fetchone()\n",
    "\n",
    "        if user:\n",
    "            print(\"\\nLogin successful!\\n\")\n",
    "            print(f\"\\nWelcome, {user[1]}! Your XP: {user[3]}, Credits: {user[4]}\\n\")\n",
    "        else:\n",
    "            print(\"username atau password salah.\")\n",
    "\n",
    "    except sqlite3.Error as e:\n",
    "        print(f\"error: {e}\")\n",
    "\n",
    "print(\"\\nLogin untuk masuk ke dalam game!\\n\")\n",
    "username_input = input(\"username: \")\n",
    "password_input = getpass(\"password: \")\n",
    "login(username_input, password_input)\n"
   ]
  }
 ],
 "metadata": {
  "kernelspec": {
   "display_name": "Python 3",
   "language": "python",
   "name": "python3"
  },
  "language_info": {
   "codemirror_mode": {
    "name": "ipython",
    "version": 3
   },
   "file_extension": ".py",
   "mimetype": "text/x-python",
   "name": "python",
   "nbconvert_exporter": "python",
   "pygments_lexer": "ipython3",
   "version": "3.11.1"
  }
 },
 "nbformat": 4,
 "nbformat_minor": 2
}
