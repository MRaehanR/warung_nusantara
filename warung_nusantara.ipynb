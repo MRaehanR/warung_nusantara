{
 "cells": [
  {
   "cell_type": "code",
   "execution_count": 2,
   "metadata": {},
   "outputs": [],
   "source": [
    "import sqlite3"
   ]
  },
  {
   "cell_type": "code",
   "execution_count": 3,
   "metadata": {},
   "outputs": [],
   "source": [
    "conn = sqlite3.connect(':memory:')\n",
    "db = conn.cursor()"
   ]
  },
  {
   "cell_type": "code",
   "execution_count": 14,
   "metadata": {},
   "outputs": [],
   "source": [
    "db.execute('''\n",
    "CREATE TABLE IF NOT EXISTS `customers` (\n",
    "`id` INTEGER PRIMARY KEY AUTOINCREMENT,\n",
    "`conversations` TEXT NOT NULL,\n",
    "`created_at` TIMESTAMP DEFAULT NULL,\n",
    "`updated_at` TIMESTAMP DEFAULT NULL\n",
    ");\n",
    "''')\n",
    "\n",
    "db.execute('''\n",
    "CREATE TABLE IF NOT EXISTS `menus` (\n",
    "`id` INTEGER PRIMARY KEY AUTOINCREMENT,\n",
    "`name` TEXT NOT NULL,\n",
    "`desc` TEXT NOT NULL,\n",
    "`buy_price` INTEGER NOT NULL,\n",
    "`sell_price` INTEGER NOT NULL,\n",
    "`unlock_xp_at` INTEGER NOT NULL,\n",
    "`menu_type` INTEGER NOT NULL,\n",
    "`created_at` TIMESTAMP NOT NULL,\n",
    "`updated_at` TIMESTAMP NOT NULL\n",
    ");\n",
    "''')\n",
    "\n",
    "db.execute('''\n",
    "CREATE TABLE IF NOT EXISTS `stocks` (\n",
    "`id` INTEGER PRIMARY KEY AUTOINCREMENT,\n",
    "`user_id` INTEGER NOT NULL,\n",
    "`menu_id` INTEGER NOT NULL,\n",
    "`quantity` INTEGER DEFAULT 0,\n",
    "`created_at` TIMESTAMP NOT NULL,\n",
    "`updated_at` TIMESTAMP NOT NULL,\n",
    "FOREIGN KEY (`user_id`) REFERENCES `users` (`id`) ON DELETE CASCADE,\n",
    "FOREIGN KEY (`menu_id`) REFERENCES `menus` (`id`) ON UPDATE CASCADE\n",
    ");\n",
    "''')\n",
    "\n",
    "db.execute('''\n",
    "CREATE TABLE IF NOT EXISTS `hints` (\n",
    "`id` INTEGER PRIMARY KEY AUTOINCREMENT,\n",
    "`desc` TEXT NOT NULL,\n",
    "`menu_type` INTEGER NOT NULL,\n",
    "`created_at` TIMESTAMP NOT NULL,\n",
    "`updated_at` TIMESTAMP NOT NULL\n",
    ");\n",
    "''')\n",
    "\n",
    "db.execute('''\n",
    "CREATE TABLE IF NOT EXISTS `users` (\n",
    "`id` INTEGER PRIMARY KEY AUTOINCREMENT,\n",
    "`username` TEXT NOT NULL,\n",
    "`password` TEXT NOT NULL,\n",
    "`xp` INTEGER NOT NULL DEFAULT 0,\n",
    "`credits` INTEGER NOT NULL DEFAULT 0,\n",
    "`created_at` TIMESTAMP NOT NULL,\n",
    "`updated_at` TIMESTAMP NOT NULL\n",
    ");\n",
    "''')\n",
    "\n",
    "db.execute('''\n",
    "INSERT INTO `users` (`username`, `password`, `xp`, `credits`, `created_at`, `updated_at`) VALUES\n",
    "('user1', 'password123', 50, 1000, '2024-01-01 06:00:00', '2024-01-01 06:00:00'),\n",
    "('user2', 'password456', 30, 500, '2024-01-02 06:00:00', '2024-01-02 06:00:00');\n",
    "''')\n",
    "\n",
    "conn.commit()\n"
   ]
  },
  {
   "cell_type": "code",
   "execution_count": 15,
   "metadata": {},
   "outputs": [
    {
     "name": "stdout",
     "output_type": "stream",
     "text": [
      "[(1, 'user1', 'password123', 50, 1000, '2024-01-01 06:00:00', '2024-01-01 06:00:00'), (2, 'user2', 'password456', 30, 500, '2024-01-02 06:00:00', '2024-01-02 06:00:00')]\n"
     ]
    }
   ],
   "source": [
    "data = db.execute('''\n",
    "                  SELECT * FROM `users`;\n",
    "                  ''')\n",
    "\n",
    "conn.commit()\n",
    "\n",
    "print(list(data))"
   ]
  }
 ],
 "metadata": {
  "kernelspec": {
   "display_name": "Python 3",
   "language": "python",
   "name": "python3"
  },
  "language_info": {
   "codemirror_mode": {
    "name": "ipython",
    "version": 3
   },
   "file_extension": ".py",
   "mimetype": "text/x-python",
   "name": "python",
   "nbconvert_exporter": "python",
   "pygments_lexer": "ipython3",
   "version": "3.13.1"
  }
 },
 "nbformat": 4,
 "nbformat_minor": 2
}
